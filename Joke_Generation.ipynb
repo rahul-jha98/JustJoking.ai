{
 "cells": [
  {
   "cell_type": "markdown",
   "metadata": {},
   "source": [
    "<a href=\"https://colab.research.google.com/github/gshanbhag525/JustJoking.ai/blob/master/Joke_Generation.ipynb\">\n",
    "  <img src=\"https://colab.research.google.com/assets/colab-badge.svg\" alt=\"Open In Colab\"/>\n",
    "</a>"
   ]
  },
  {
   "cell_type": "code",
   "execution_count": 1,
   "metadata": {
    "colab": {
     "base_uri": "https://localhost:8080/",
     "height": 102
    },
    "colab_type": "code",
    "id": "7oB90qa-JIOK",
    "outputId": "b1479fe6-c9ac-4452-8d5d-52cbf7a49563"
   },
   "outputs": [
    {
     "name": "stdout",
     "output_type": "stream",
     "text": [
      "^C\r\n",
      "\u001b[31mERROR: Operation cancelled by user\u001b[0m\r\n"
     ]
    }
   ],
   "source": [
    "## Quietly installing transformers package to import\n",
    "## the GPT2Tokenizer and TFGPT2LMHeadModel\n",
    "!pip install transformers -q"
   ]
  },
  {
   "cell_type": "markdown",
   "metadata": {
    "colab_type": "text",
    "id": "0mkkMg9RiJAz"
   },
   "source": [
    "## Imports"
   ]
  },
  {
   "cell_type": "code",
   "execution_count": 0,
   "metadata": {
    "colab": {},
    "colab_type": "code",
    "id": "1ohArLlf2nj7"
   },
   "outputs": [],
   "source": [
    "import tensorflow as tf\n",
    "\n",
    "from transformers import GPT2Tokenizer, TFGPT2LMHeadModel\n",
    "\n",
    "import os\n",
    "import numpy as np\n",
    "import pandas as pd\n",
    "\n",
    "from tqdm.notebook import tqdm"
   ]
  },
  {
   "cell_type": "markdown",
   "metadata": {
    "colab_type": "text",
    "id": "qz3BbzQU3nRg"
   },
   "source": [
    "## Downloading the Data\n",
    "\n",
    "The dataset is available at https://www.kaggle.com/abhinavmoudgil95/short-jokes/data\n",
    "\n",
    "Sign In to Kaggle and begin the download process for **shortjokes.csv** file. Then copy the link address for the download file and update the _URL varaiable.\n",
    "\n",
    "Once done run all the cells in the notebook. Also, you can cancel the donwload process for the file. :)"
   ]
  },
  {
   "cell_type": "code",
   "execution_count": 0,
   "metadata": {
    "colab": {},
    "colab_type": "code",
    "id": "r788uSoz3lkO"
   },
   "outputs": [],
   "source": [
    "_URL = 'https://storage.googleapis.com/kaggle-data-sets/781%2F1457%2Fcompressed%2Fshortjokes.csv.zip?GoogleAccessId=gcp-kaggle-com@kaggle-161607.iam.gserviceaccount.com&Expires=1591507341&Signature=FyX9Byp7qpIpWTuJi028%2F74JCoCSyi0r8%2FtCGTfx9H0jewKbi%2FGvXRt46owax54aYyDFCfzPmCAWPUKmm%2FKMYgZ%2BqsskQH%2F92PiuQlIT4fttjvKUNEpy14Dcd%2BNy4NCpqLUlU0TCoLgsYEak53yU23QbWBgus1HpFn7UXY1Az8TOjNRBQYk%2FXajaV1qlrrNKRC13K6v6WR2qTsL3tLbzalQWiPxfPv1TwQnqicmYdPxRkhiuv19iX7Y1qpp22ZSzUW6w80e9A5R%2BcAItllI43OrN9HRMljVyJMrDIHP%2FqLAsvTmc2yYBa2muwN4wNDwxOBGbYpsbC0I%2B2F2J1HZbAA%3D%3D'"
   ]
  },
  {
   "cell_type": "code",
   "execution_count": 0,
   "metadata": {
    "colab": {
     "base_uri": "https://localhost:8080/",
     "height": 71
    },
    "colab_type": "code",
    "id": "6N9sG3LID_tn",
    "outputId": "def91557-017e-4212-d5b8-4504146ed1ef"
   },
   "outputs": [
    {
     "name": "stdout",
     "output_type": "stream",
     "text": [
      "Downloading data from https://storage.googleapis.com/kaggle-data-sets/781%2F1457%2Fcompressed%2Fshortjokes.csv.zip?GoogleAccessId=gcp-kaggle-com@kaggle-161607.iam.gserviceaccount.com&Expires=1591507341&Signature=FyX9Byp7qpIpWTuJi028%2F74JCoCSyi0r8%2FtCGTfx9H0jewKbi%2FGvXRt46owax54aYyDFCfzPmCAWPUKmm%2FKMYgZ%2BqsskQH%2F92PiuQlIT4fttjvKUNEpy14Dcd%2BNy4NCpqLUlU0TCoLgsYEak53yU23QbWBgus1HpFn7UXY1Az8TOjNRBQYk%2FXajaV1qlrrNKRC13K6v6WR2qTsL3tLbzalQWiPxfPv1TwQnqicmYdPxRkhiuv19iX7Y1qpp22ZSzUW6w80e9A5R%2BcAItllI43OrN9HRMljVyJMrDIHP%2FqLAsvTmc2yYBa2muwN4wNDwxOBGbYpsbC0I%2B2F2J1HZbAA%3D%3D\n",
      "10305536/10299687 [==============================] - 0s 0us/step\n"
     ]
    }
   ],
   "source": [
    "path_to_zip = tf.keras.utils.get_file('shortjokes.csv.zip', origin=_URL, extract=True)\n",
    "\n",
    "FILE_PATH = os.path.join(os.path.dirname(path_to_zip), 'shortjokes.csv')"
   ]
  },
  {
   "cell_type": "markdown",
   "metadata": {
    "colab_type": "text",
    "id": "W3xUvbCJFkS1"
   },
   "source": [
    "## Preparing the Dataset"
   ]
  },
  {
   "cell_type": "markdown",
   "metadata": {
    "colab_type": "text",
    "id": "emWVc6SFRHMk"
   },
   "source": [
    "### Extracting jokes list from CSV"
   ]
  },
  {
   "cell_type": "code",
   "execution_count": 0,
   "metadata": {
    "colab": {},
    "colab_type": "code",
    "id": "zCLwNtgSGEYh"
   },
   "outputs": [],
   "source": [
    "pd.options.display.max_colwidth = None"
   ]
  },
  {
   "cell_type": "code",
   "execution_count": 0,
   "metadata": {
    "colab": {
     "base_uri": "https://localhost:8080/",
     "height": 204
    },
    "colab_type": "code",
    "id": "jgTULP5fEH32",
    "outputId": "0a262fe8-4b39-443f-87c7-f3809ca46fd6"
   },
   "outputs": [
    {
     "data": {
      "text/html": [
       "<div>\n",
       "<style scoped>\n",
       "    .dataframe tbody tr th:only-of-type {\n",
       "        vertical-align: middle;\n",
       "    }\n",
       "\n",
       "    .dataframe tbody tr th {\n",
       "        vertical-align: top;\n",
       "    }\n",
       "\n",
       "    .dataframe thead th {\n",
       "        text-align: right;\n",
       "    }\n",
       "</style>\n",
       "<table border=\"1\" class=\"dataframe\">\n",
       "  <thead>\n",
       "    <tr style=\"text-align: right;\">\n",
       "      <th></th>\n",
       "      <th>ID</th>\n",
       "      <th>Joke</th>\n",
       "    </tr>\n",
       "  </thead>\n",
       "  <tbody>\n",
       "    <tr>\n",
       "      <th>0</th>\n",
       "      <td>1</td>\n",
       "      <td>[me narrating a documentary about narrators] \"I can't hear what they're saying cuz I'm talking\"</td>\n",
       "    </tr>\n",
       "    <tr>\n",
       "      <th>1</th>\n",
       "      <td>2</td>\n",
       "      <td>Telling my daughter garlic is good for you. Good immune system and keeps pests away.Ticks, mosquitos, vampires... men.</td>\n",
       "    </tr>\n",
       "    <tr>\n",
       "      <th>2</th>\n",
       "      <td>3</td>\n",
       "      <td>I've been going through a really rough period at work this week It's my own fault for swapping my tampax for sand paper.</td>\n",
       "    </tr>\n",
       "    <tr>\n",
       "      <th>3</th>\n",
       "      <td>4</td>\n",
       "      <td>If I could have dinner with anyone, dead or alive... ...I would choose alive. -B.J. Novak-</td>\n",
       "    </tr>\n",
       "    <tr>\n",
       "      <th>4</th>\n",
       "      <td>5</td>\n",
       "      <td>Two guys walk into a bar. The third guy ducks.</td>\n",
       "    </tr>\n",
       "  </tbody>\n",
       "</table>\n",
       "</div>"
      ],
      "text/plain": [
       "   ID                                                                                                                      Joke\n",
       "0   1                           [me narrating a documentary about narrators] \"I can't hear what they're saying cuz I'm talking\"\n",
       "1   2    Telling my daughter garlic is good for you. Good immune system and keeps pests away.Ticks, mosquitos, vampires... men.\n",
       "2   3  I've been going through a really rough period at work this week It's my own fault for swapping my tampax for sand paper.\n",
       "3   4                                If I could have dinner with anyone, dead or alive... ...I would choose alive. -B.J. Novak-\n",
       "4   5                                                                            Two guys walk into a bar. The third guy ducks."
      ]
     },
     "execution_count": 8,
     "metadata": {
      "tags": []
     },
     "output_type": "execute_result"
    }
   ],
   "source": [
    "jokes = pd.read_csv(FILE_PATH)\n",
    "jokes.head()"
   ]
  },
  {
   "cell_type": "code",
   "execution_count": 0,
   "metadata": {
    "colab": {
     "base_uri": "https://localhost:8080/",
     "height": 102
    },
    "colab_type": "code",
    "id": "ePwTjASsNw50",
    "outputId": "f01f7f90-6f84-4412-ee1e-f40e7b861225"
   },
   "outputs": [
    {
     "data": {
      "text/plain": [
       "['[me narrating a documentary about narrators] \"I can\\'t hear what they\\'re saying cuz I\\'m talking\"',\n",
       " 'Telling my daughter garlic is good for you. Good immune system and keeps pests away.Ticks, mosquitos, vampires... men.',\n",
       " \"I've been going through a really rough period at work this week It's my own fault for swapping my tampax for sand paper.\",\n",
       " 'If I could have dinner with anyone, dead or alive... ...I would choose alive. -B.J. Novak-',\n",
       " 'Two guys walk into a bar. The third guy ducks.']"
      ]
     },
     "execution_count": 9,
     "metadata": {
      "tags": []
     },
     "output_type": "execute_result"
    }
   ],
   "source": [
    "jokeslist = jokes['Joke'].to_list()\n",
    "jokeslist[:5]"
   ]
  },
  {
   "cell_type": "markdown",
   "metadata": {
    "colab_type": "text",
    "id": "u88ehaULRO3U"
   },
   "source": [
    "### Creating the Tokenizer for word tokenization"
   ]
  },
  {
   "cell_type": "code",
   "execution_count": 0,
   "metadata": {
    "colab": {
     "base_uri": "https://localhost:8080/",
     "height": 115,
     "referenced_widgets": [
      "0e543b812ff9407a97cd42f579fcfa4e",
      "3e43951ac54b4ba0a996822b8228cce6",
      "47d130dfbcbf4c59901f871cc9c2c20a",
      "4b1981dba58a4237bb9a18a18333754c",
      "85a01e42e2b4409b875e7da04b603dea",
      "78220b1a7c58464c80fab5ba2881324d",
      "a3853d605a61488c97b0efc8cb86d44e",
      "adba12ca745844ba8a61f512ba733daf",
      "b943a1ca56fe455bad60dd7cf776d543",
      "e77ccda03163479ab006416c6fa281a2",
      "a4815015ad1849a2a7f66ab783594206",
      "6ff7375dc1a24c7d9ac5af5b5a2563d2",
      "4158bc7af22147f0b005f9418963bf6e",
      "b02023a55bfa40859602b752fd1326eb",
      "8aec5c9a6cff4474b77386b575a318b1",
      "6f71e6ef11e64dedae5195a16239b4d7"
     ]
    },
    "colab_type": "code",
    "id": "lPk1pSyjPGid",
    "outputId": "e15693a9-f64b-48e1-ef6c-d53b3c7904ab"
   },
   "outputs": [
    {
     "data": {
      "application/vnd.jupyter.widget-view+json": {
       "model_id": "0e543b812ff9407a97cd42f579fcfa4e",
       "version_major": 2,
       "version_minor": 0
      },
      "text/plain": [
       "HBox(children=(FloatProgress(value=0.0, description='Downloading', max=1042301.0, style=ProgressStyle(descript…"
      ]
     },
     "metadata": {
      "tags": []
     },
     "output_type": "display_data"
    },
    {
     "name": "stdout",
     "output_type": "stream",
     "text": [
      "\n"
     ]
    },
    {
     "data": {
      "application/vnd.jupyter.widget-view+json": {
       "model_id": "b943a1ca56fe455bad60dd7cf776d543",
       "version_major": 2,
       "version_minor": 0
      },
      "text/plain": [
       "HBox(children=(FloatProgress(value=0.0, description='Downloading', max=456318.0, style=ProgressStyle(descripti…"
      ]
     },
     "metadata": {
      "tags": []
     },
     "output_type": "display_data"
    },
    {
     "name": "stdout",
     "output_type": "stream",
     "text": [
      "\n"
     ]
    }
   ],
   "source": [
    "Tokenizer = GPT2Tokenizer.from_pretrained('gpt2-medium')"
   ]
  },
  {
   "cell_type": "code",
   "execution_count": 0,
   "metadata": {
    "colab": {},
    "colab_type": "code",
    "id": "-O1BnNyNPXRx"
   },
   "outputs": [],
   "source": [
    "special_tokens_dict = {'pad_token': 'pad'}\n",
    "num_added_toks = Tokenizer.add_special_tokens(special_tokens_dict)\n",
    "\n",
    "START_TOKEN = '<|start|> '\n",
    "END_TOKEN = ' <|end|>'"
   ]
  },
  {
   "cell_type": "markdown",
   "metadata": {
    "colab_type": "text",
    "id": "dv2o6lzfilWm"
   },
   "source": [
    "### Create Dataset from List"
   ]
  },
  {
   "cell_type": "code",
   "execution_count": 0,
   "metadata": {
    "colab": {},
    "colab_type": "code",
    "id": "jlCWBS-bFt89"
   },
   "outputs": [],
   "source": [
    "# A utility method to create a tf.data dataset from a List of jokes\n",
    "def jokeslist_to_dataset(jokeslist, tokenizer, \n",
    "                  shuffle=True, batch_size=16, MAX_LEN = 64):\n",
    "  \n",
    "\n",
    "  jokeslist = [START_TOKEN + joke + END_TOKEN for joke in jokeslist]\n",
    "\n",
    "  encodings = [tokenizer.encode_plus(joke,\n",
    "                                  None,\n",
    "                                  add_special_tokens = True,\n",
    "                                  max_length = MAX_LEN,\n",
    "                                  pad_to_max_length = True) \n",
    "              for joke in jokeslist]\n",
    "\n",
    "  ids = [x['input_ids'] for x in encodings]\n",
    "  masks = [x['attention_mask'] for x in encodings]\n",
    "  types = [x['token_type_ids'] for x in encodings]\n",
    "\n",
    "  inputs = {}\n",
    "  inputs['input_ids'] = ids\n",
    "  inputs['attention_mask'] = masks\n",
    "  inputs['token_type_ids'] = types\n",
    "\n",
    "  ds = tf.data.Dataset.from_tensor_slices(inputs)\n",
    "\n",
    "  if shuffle:\n",
    "    ds = ds.shuffle(buffer_size=len(jokeslist))\n",
    "\n",
    "  ds = ds.batch(batch_size)\n",
    "\n",
    "  return ds"
   ]
  },
  {
   "cell_type": "markdown",
   "metadata": {
    "colab_type": "text",
    "id": "NhgJUfaKir_t"
   },
   "source": [
    "Note: This is a costly process since all the tokenization is done immediately. Thus it is expected to be slow. The only advantage is since everything is processed and kept in memory we are saving repated operationg while training."
   ]
  },
  {
   "cell_type": "code",
   "execution_count": 0,
   "metadata": {
    "colab": {},
    "colab_type": "code",
    "id": "6RpJpWbVOEsZ"
   },
   "outputs": [],
   "source": [
    "## In case you wish to only test the model do not run this cell\n",
    "\n",
    "jokes_dataset = jokeslist_to_dataset(jokeslist, Tokenizer)"
   ]
  },
  {
   "cell_type": "code",
   "execution_count": 0,
   "metadata": {
    "colab": {
     "base_uri": "https://localhost:8080/",
     "height": 204
    },
    "colab_type": "code",
    "id": "LzdrkAGI88Rc",
    "outputId": "fd097f5d-bb1e-457f-886d-81eddc303461"
   },
   "outputs": [
    {
     "name": "stdout",
     "output_type": "stream",
     "text": [
      "tf.Tensor(\n",
      "[   27    91  9688    91    29   314  1549   787   257  1964  9707   475\n",
      "   340   561   655   886   510   852  7018    13  1279    91   437    91\n",
      "    29 15636 15636 15636 15636 15636 15636 15636 15636 15636 15636 15636\n",
      " 15636 15636 15636 15636 15636 15636 15636 15636 15636 15636 15636 15636\n",
      " 15636 15636 15636 15636 15636 15636 15636 15636 15636 15636 15636 15636\n",
      " 15636 15636 15636 15636], shape=(64,), dtype=int32) tf.Tensor(\n",
      "[1 1 1 1 1 1 1 1 1 1 1 1 1 1 1 1 1 1 1 1 1 1 1 1 1 0 0 0 0 0 0 0 0 0 0 0 0\n",
      " 0 0 0 0 0 0 0 0 0 0 0 0 0 0 0 0 0 0 0 0 0 0 0 0 0 0 0], shape=(64,), dtype=int32) tf.Tensor(\n",
      "[0 0 0 0 0 0 0 0 0 0 0 0 0 0 0 0 0 0 0 0 0 0 0 0 0 0 0 0 0 0 0 0 0 0 0 0 0\n",
      " 0 0 0 0 0 0 0 0 0 0 0 0 0 0 0 0 0 0 0 0 0 0 0 0 0 0 0], shape=(64,), dtype=int32)\n"
     ]
    }
   ],
   "source": [
    "for x in jokes_dataset:\n",
    "  a, b, c = x['input_ids'], x['attention_mask'], x['token_type_ids']\n",
    "  print(a[0], b[0], c[0])\n",
    "  break"
   ]
  },
  {
   "cell_type": "markdown",
   "metadata": {
    "colab_type": "text",
    "id": "YMiORQ8iXYNK"
   },
   "source": [
    "## The Model"
   ]
  },
  {
   "cell_type": "code",
   "execution_count": 0,
   "metadata": {
    "colab": {
     "base_uri": "https://localhost:8080/",
     "height": 115,
     "referenced_widgets": [
      "0f71498eddae419c95c1bd473b9780ee",
      "173dd0e4ed1443cea7e2362b06f07509",
      "f04cd57931e34101bed0ad5d50fbb38b",
      "240f0a7b23c94902b8cc066eb00e0ee0",
      "3e17d472f6f94284927b128f1341e7c9",
      "b5e2a8226d2b45b6b860b51ea0aee443",
      "8a18cb2855964a23bb6aeab2bde97ced",
      "3a1c23c72760471fb7dad913b5510e18",
      "0fe9a4c85f0949acb092cd00c7db21f3",
      "ac1e515383d349a2be8afa9f3a40b078",
      "71bf0e4f6a2d4d02b084e9ce7397997b",
      "8eaaaa11804a440c869c8f8e1e3e3558",
      "259edb7d4a4e4ef48835444789a83c64",
      "3461d60ff893418bae490c94c8b099ba",
      "88e6ff05f8f44bbdb2722d30ef6b4380",
      "a2135dc45d514dc6ac9670f97ff64896"
     ]
    },
    "colab_type": "code",
    "id": "MFGKP90jTVn1",
    "outputId": "46a33044-4f78-4546-b923-2e996b652096"
   },
   "outputs": [
    {
     "data": {
      "application/vnd.jupyter.widget-view+json": {
       "model_id": "0f71498eddae419c95c1bd473b9780ee",
       "version_major": 2,
       "version_minor": 0
      },
      "text/plain": [
       "HBox(children=(FloatProgress(value=0.0, description='Downloading', max=718.0, style=ProgressStyle(description_…"
      ]
     },
     "metadata": {
      "tags": []
     },
     "output_type": "display_data"
    },
    {
     "name": "stdout",
     "output_type": "stream",
     "text": [
      "\n"
     ]
    },
    {
     "data": {
      "application/vnd.jupyter.widget-view+json": {
       "model_id": "0fe9a4c85f0949acb092cd00c7db21f3",
       "version_major": 2,
       "version_minor": 0
      },
      "text/plain": [
       "HBox(children=(FloatProgress(value=0.0, description='Downloading', max=1419628976.0, style=ProgressStyle(descr…"
      ]
     },
     "metadata": {
      "tags": []
     },
     "output_type": "display_data"
    },
    {
     "name": "stdout",
     "output_type": "stream",
     "text": [
      "\n"
     ]
    }
   ],
   "source": [
    "model = TFGPT2LMHeadModel.from_pretrained('gpt2-medium')"
   ]
  },
  {
   "cell_type": "code",
   "execution_count": 0,
   "metadata": {
    "colab": {
     "base_uri": "https://localhost:8080/",
     "height": 187
    },
    "colab_type": "code",
    "id": "E4v3XN3QXfPT",
    "outputId": "4efc966f-12f5-4096-ae4e-2b141a1b9ef7"
   },
   "outputs": [
    {
     "name": "stdout",
     "output_type": "stream",
     "text": [
      "Model: \"tfgp_t2lm_head_model\"\n",
      "_________________________________________________________________\n",
      "Layer (type)                 Output Shape              Param #   \n",
      "=================================================================\n",
      "transformer (TFGPT2MainLayer multiple                  354823168 \n",
      "=================================================================\n",
      "Total params: 354,823,168\n",
      "Trainable params: 354,823,168\n",
      "Non-trainable params: 0\n",
      "_________________________________________________________________\n"
     ]
    }
   ],
   "source": [
    "model.summary()"
   ]
  },
  {
   "cell_type": "markdown",
   "metadata": {
    "colab_type": "text",
    "id": "Ha-i3KzwiAV2"
   },
   "source": [
    "## Loss Function and Optimizer"
   ]
  },
  {
   "cell_type": "code",
   "execution_count": 0,
   "metadata": {
    "colab": {},
    "colab_type": "code",
    "id": "wBlnY-kOEQoq"
   },
   "outputs": [],
   "source": [
    "loss_function = tf.losses.SparseCategoricalCrossentropy(from_logits=True)"
   ]
  },
  {
   "cell_type": "code",
   "execution_count": 0,
   "metadata": {
    "colab": {},
    "colab_type": "code",
    "id": "ekhYm_pBXheT"
   },
   "outputs": [],
   "source": [
    "optimizer = tf.keras.optimizers.Adam(learning_rate=1e-5, epsilon=1e-08, clipnorm=1.0)"
   ]
  },
  {
   "cell_type": "markdown",
   "metadata": {
    "colab_type": "text",
    "id": "6nU_9GzviDuL"
   },
   "source": [
    "## Checkpointing"
   ]
  },
  {
   "cell_type": "code",
   "execution_count": 0,
   "metadata": {
    "colab": {
     "base_uri": "https://localhost:8080/",
     "height": 122
    },
    "colab_type": "code",
    "id": "kXlXQJSJnBYH",
    "outputId": "6a6b96a5-3da3-4a31-9fbe-66bfa8a4622f"
   },
   "outputs": [
    {
     "name": "stdout",
     "output_type": "stream",
     "text": [
      "Go to this URL in a browser: https://accounts.google.com/o/oauth2/auth?client_id=947318989803-6bn6qk8qdgf4n4g3pfee6491hc0brc4i.apps.googleusercontent.com&redirect_uri=urn%3aietf%3awg%3aoauth%3a2.0%3aoob&response_type=code&scope=email%20https%3a%2f%2fwww.googleapis.com%2fauth%2fdocs.test%20https%3a%2f%2fwww.googleapis.com%2fauth%2fdrive%20https%3a%2f%2fwww.googleapis.com%2fauth%2fdrive.photos.readonly%20https%3a%2f%2fwww.googleapis.com%2fauth%2fpeopleapi.readonly\n",
      "\n",
      "Enter your authorization code:\n",
      "··········\n",
      "Mounted at /content/gdrive\n"
     ]
    }
   ],
   "source": [
    "from google.colab import drive\n",
    "drive.mount('/content/gdrive')"
   ]
  },
  {
   "cell_type": "code",
   "execution_count": 0,
   "metadata": {
    "colab": {},
    "colab_type": "code",
    "id": "VrCpGfDdnN-b"
   },
   "outputs": [],
   "source": [
    "CHECKPOINT_PATH = \"/content/gdrive/My Drive/Weights/JokeGenGPT2\""
   ]
  },
  {
   "cell_type": "code",
   "execution_count": 0,
   "metadata": {
    "colab": {
     "base_uri": "https://localhost:8080/",
     "height": 34
    },
    "colab_type": "code",
    "id": "JWoYstRaRSTa",
    "outputId": "d3f5e832-1100-4826-f0e5-0e610d2af664"
   },
   "outputs": [
    {
     "name": "stdout",
     "output_type": "stream",
     "text": [
      "Latest checkpoint restored!!\n"
     ]
    }
   ],
   "source": [
    "checkpoint_path = CHECKPOINT_PATH\n",
    "\n",
    "ckpt = tf.train.Checkpoint(model = model)\n",
    "\n",
    "ckpt_manager = tf.train.CheckpointManager(ckpt, checkpoint_path, max_to_keep=5)\n",
    "\n",
    "# if a checkpoint exists, restore the latest checkpoint.\n",
    "if ckpt_manager.latest_checkpoint:\n",
    "  ckpt.restore(ckpt_manager.latest_checkpoint)\n",
    "  print ('Latest checkpoint restored!!')"
   ]
  },
  {
   "cell_type": "markdown",
   "metadata": {
    "colab_type": "text",
    "id": "3wv-oeml7g89"
   },
   "source": [
    "## Training"
   ]
  },
  {
   "cell_type": "code",
   "execution_count": 0,
   "metadata": {
    "colab": {},
    "colab_type": "code",
    "id": "P0L1ZZT2RLrT"
   },
   "outputs": [],
   "source": [
    "@tf.function\n",
    "def train_step(data_dict):  \n",
    "  with tf.GradientTape() as tape:\n",
    "\n",
    "    outputs = model(data_dict)\n",
    "\n",
    "    lm_logits = outputs[0]\n",
    "    labels = data_dict['input_ids']\n",
    "\n",
    "    ## For computing loss we remove the last element from logits and \n",
    "    ## first from labels. Thus we need the model to learn to predict next\n",
    "    ## word more confidently among the others. \n",
    "    shift_logits = lm_logits[..., :-1, :]\n",
    "    shift_labels = labels[..., 1:]\n",
    "    \n",
    "    loss = loss_function(tf.reshape(shift_labels, (-1,)),\n",
    "         tf.reshape(shift_logits, \n",
    "                   (-1, shift_logits.shape[-1])))\n",
    "\n",
    "  gradients = tape.gradient(loss, model.trainable_variables)    \n",
    "  optimizer.apply_gradients(zip(gradients, model.trainable_variables))\n",
    "\n",
    "  return loss"
   ]
  },
  {
   "cell_type": "code",
   "execution_count": 0,
   "metadata": {
    "colab": {},
    "colab_type": "code",
    "id": "TdfNtCJYzKzz"
   },
   "outputs": [],
   "source": [
    "EPOCHS = 4\n",
    "\n",
    "for epoch in range(EPOCHS):\n",
    "  \n",
    "  for batch, data in tqdm(enumerate(jokes_dataset)):\n",
    "    loss = train_step(data)\n",
    "    if batch % 100 == 0:\n",
    "      print('Epoch : {0} Batch : {1} ---- Loss : {2}'.format(epoch+1, batch+1, loss))\n",
    "\n",
    "  \n",
    "\n",
    "  ckpt_save_path = ckpt_manager.save()\n",
    "  print ('Saving checkpoint for epoch {} at {}'.format(epoch+1,\n",
    "                                                        ckpt_save_path))"
   ]
  },
  {
   "cell_type": "markdown",
   "metadata": {
    "colab_type": "text",
    "id": "Qpyh-ydg6n2a"
   },
   "source": [
    "## Inference"
   ]
  },
  {
   "cell_type": "markdown",
   "metadata": {
    "colab_type": "text",
    "id": "Wpd2PoX57peW"
   },
   "source": [
    "### Generating Joke from Scratch"
   ]
  },
  {
   "cell_type": "code",
   "execution_count": 0,
   "metadata": {
    "colab": {},
    "colab_type": "code",
    "id": "P3QRDWIi9xLJ"
   },
   "outputs": [],
   "source": [
    "def exploit_best_token_while_exploring(probabilites, exploration_len=5):\n",
    "    ## Get the top k probabilites indices where k is exploration_len \n",
    "    top_indices = np.argpartition(probabilites, -exploration_len)\\\n",
    "                            [-exploration_len:]\n",
    "\n",
    "    ## Getting top proabilities value\n",
    "    top_probabilities = probabilites[top_indices]\n",
    "\n",
    "    ## Normalizing it so that they sum is 1\n",
    "    top_probabilities = top_probabilities / np.sum(top_probabilities)\n",
    "\n",
    "    ## Although we choose next token randomly for our options we \n",
    "    ## pass the probabilities associated with each to account for the\n",
    "    ## model's confidence for the token also. \n",
    "    choice = np.random.choice(exploration_len, 1, p = top_probabilities)\n",
    "\n",
    "    ## Return next token id based on choice\n",
    "    next_token_id = int(top_indices[choice][0])\n",
    "    return next_token_id"
   ]
  },
  {
   "cell_type": "code",
   "execution_count": 0,
   "metadata": {
    "colab": {},
    "colab_type": "code",
    "id": "moB2eE9S-34S"
   },
   "outputs": [],
   "source": [
    "def generate_joke(joke_length = 64):\n",
    "\n",
    "  ## Begin by appending the START_TOKEN to our current joke\n",
    "  current_joke = tf.expand_dims(tf.convert_to_tensor(Tokenizer.encode(START_TOKEN)), 0)\n",
    "  \n",
    "  for pos in range(joke_length):\n",
    "\n",
    "    ## Get output of model for the current_joke\n",
    "    output = model(current_joke)\n",
    "\n",
    "    ## Getting the logits value from output tuple i.e. (logits)\n",
    "    logits = output[0]\n",
    "\n",
    "    ## Logits is of the shape (BATCH, LEN_INPUT) \n",
    "    ## So, since batch size is 1 we get 0th index\n",
    "    ## and the softmax for only the next possible word i.e. -1\n",
    "    softmax_logits = tf.nn.softmax(logits[0, -1], axis=0).numpy()\n",
    "\n",
    "    ## Depending on whether we are in initial or final stages of joke\n",
    "    ## we determine how many options we should explore to make sure we have\n",
    "    ## variety in jokes generated\n",
    "    if pos == 0:\n",
    "      # If we are predicting first word we need maximum exploration\n",
    "      exploration_len = 50\n",
    "\n",
    "    elif pos < 4:\n",
    "      # The next three words have exploration length 15\n",
    "      exploration_len = 15\n",
    "\n",
    "    else:\n",
    "      # As we move further we narrow our exploration length\n",
    "      exploration_len = 4\n",
    "\n",
    "    ## Get the token we should append to current joke\n",
    "    token_to_append = exploit_best_token_while_exploring(softmax_logits, \n",
    "                                                         exploration_len)\n",
    "\n",
    "    ## Append the token to current joke\n",
    "    current_joke = tf.concat([current_joke, \n",
    "                              tf.ones((1,1), dtype = tf.int32)*token_to_append], \n",
    "                             axis = 1)\n",
    "    \n",
    "    ## In case the token belongs to the END_TOKEN we return it as complete joke\n",
    "    if token_to_append in Tokenizer.encode(END_TOKEN):\n",
    "      return Tokenizer.decode(list(tf.squeeze(current_joke).numpy()))\n",
    "  \n",
    "  ## If we did not get end token it means no joke is formed\n",
    "  return None"
   ]
  },
  {
   "cell_type": "code",
   "execution_count": 0,
   "metadata": {
    "colab": {
     "base_uri": "https://localhost:8080/",
     "height": 34
    },
    "colab_type": "code",
    "id": "pMEKPeH5EEKi",
    "outputId": "6089955e-16c6-4ce9-a199-71b8530a988d"
   },
   "outputs": [
    {
     "data": {
      "text/plain": [
       "'<|start|> I had a dream last night that I was the president of the US... I had to sleep through it, but it was good. <'"
      ]
     },
     "execution_count": 41,
     "metadata": {
      "tags": []
     },
     "output_type": "execute_result"
    }
   ],
   "source": [
    "generate_joke()"
   ]
  },
  {
   "cell_type": "code",
   "execution_count": 0,
   "metadata": {
    "colab": {
     "base_uri": "https://localhost:8080/",
     "height": 34
    },
    "colab_type": "code",
    "id": "V4sbOT0HEa8O",
    "outputId": "aff3b11b-2ffa-4719-b02b-57c0f3ebb787"
   },
   "outputs": [
    {
     "data": {
      "text/plain": [
       "'<|start|> \"What\\'s a good joke about the Titanic?\" \"The one about the icebergs?\" \"No, the iceberg jokes aren\\'t good. The Titanic\\'s a good example.\" <'"
      ]
     },
     "execution_count": 83,
     "metadata": {
      "tags": []
     },
     "output_type": "execute_result"
    }
   ],
   "source": [
    "generate_joke()"
   ]
  },
  {
   "cell_type": "code",
   "execution_count": 0,
   "metadata": {
    "colab": {
     "base_uri": "https://localhost:8080/",
     "height": 34
    },
    "colab_type": "code",
    "id": "PLALyIYTLxQV",
    "outputId": "e29d7aaf-ea24-45cf-fc14-c4d0a8367b31"
   },
   "outputs": [
    {
     "data": {
      "text/plain": [
       "\"<|start|> Why does Peter Pan always fly? It's because he Neverlands. <\""
      ]
     },
     "execution_count": 89,
     "metadata": {
      "tags": []
     },
     "output_type": "execute_result"
    }
   ],
   "source": [
    "generate_joke()"
   ]
  },
  {
   "cell_type": "code",
   "execution_count": 0,
   "metadata": {
    "colab": {
     "base_uri": "https://localhost:8080/",
     "height": 34
    },
    "colab_type": "code",
    "id": "oqNdESVlGb2w",
    "outputId": "256489d9-8b94-49ae-e687-52e5ead49620"
   },
   "outputs": [
    {
     "data": {
      "text/plain": [
       "'<|start|> Q: What kind of shoes do pirates wear? A: Sneakers <'"
      ]
     },
     "execution_count": 47,
     "metadata": {
      "tags": []
     },
     "output_type": "execute_result"
    }
   ],
   "source": [
    "generate_joke()"
   ]
  },
  {
   "cell_type": "code",
   "execution_count": 0,
   "metadata": {
    "colab": {
     "base_uri": "https://localhost:8080/",
     "height": 34
    },
    "colab_type": "code",
    "id": "DizJsii0rvlW",
    "outputId": "96a2a3b3-505e-4cfc-9f41-ea0336ff1978"
   },
   "outputs": [
    {
     "data": {
      "text/plain": [
       "\"<|start|> Why did the blonde have a sore throat? Because she couldn't concentrate <\""
      ]
     },
     "execution_count": 50,
     "metadata": {
      "tags": []
     },
     "output_type": "execute_result"
    }
   ],
   "source": [
    "generate_joke()"
   ]
  },
  {
   "cell_type": "code",
   "execution_count": 0,
   "metadata": {
    "colab": {
     "base_uri": "https://localhost:8080/",
     "height": 34
    },
    "colab_type": "code",
    "id": "lH84XzqAyyEJ",
    "outputId": "45560790-2631-4e94-a6b0-0c0bf3a32da0"
   },
   "outputs": [
    {
     "data": {
      "text/plain": [
       "'<|start|> I was asked to be the spokesperson for the LGBT community in the United States. I said, \"I\\'ll be gay.\" They laughed and I said, \"I\\'m sorry, I don\\'t think I\\'m gay.\" <'"
      ]
     },
     "execution_count": 21,
     "metadata": {
      "tags": []
     },
     "output_type": "execute_result"
    }
   ],
   "source": [
    "generate_joke()"
   ]
  },
  {
   "cell_type": "markdown",
   "metadata": {
    "colab_type": "text",
    "id": "daXhybek7uLd"
   },
   "source": [
    "### Completing Sentences in Humorous Way"
   ]
  },
  {
   "cell_type": "code",
   "execution_count": 0,
   "metadata": {
    "colab": {},
    "colab_type": "code",
    "id": "4tj_bTMJ0DIq"
   },
   "outputs": [],
   "source": [
    "def complete_joke(initial_string = '', joke_length = 64):\n",
    "\n",
    "  ## Begin by appending the START_TOKEN along with initial string to \n",
    "  ## our current joke sentence\n",
    "  current_joke = tf.expand_dims(\n",
    "      tf.convert_to_tensor(Tokenizer.encode(START_TOKEN + initial_string)), \n",
    "      0)\n",
    "  \n",
    "  for pos in range(joke_length):\n",
    "\n",
    "    ## Get output of model for the current_joke\n",
    "    output = model(current_joke)\n",
    "\n",
    "    ## Getting the logits value from output tuple i.e. (logits)\n",
    "    logits = output[0]\n",
    "\n",
    "    ## Logits is of the shape (BATCH, LEN_INPUT) \n",
    "    ## So, since batch size is 1 we get 0th index\n",
    "    ## and the softmax for only the next possible word i.e. -1\n",
    "    softmax_logits = tf.nn.softmax(logits[0, -1], axis=0).numpy()\n",
    "\n",
    "    ## Depending on whether we are in initial or final stages of joke\n",
    "    ## we determine how many options we should explore to make sure we have\n",
    "    ## variety in jokes generated\n",
    "    if pos == 0:\n",
    "      # If we are predicting first word we need maximum exploration\n",
    "      exploration_len = 50\n",
    "\n",
    "    elif pos < 4:\n",
    "      # The next three words have exploration length 15\n",
    "      exploration_len = 15\n",
    "\n",
    "    else:\n",
    "      # As we move further we narrow our exploration length\n",
    "      exploration_len = 4\n",
    "\n",
    "    ## Get the token we should append to current joke\n",
    "    token_to_append = exploit_best_token_while_exploring(softmax_logits, \n",
    "                                                         exploration_len)\n",
    "\n",
    "    ## Append the token to current joke\n",
    "    current_joke = tf.concat([current_joke, \n",
    "                              tf.ones((1,1), dtype = tf.int32)*token_to_append], \n",
    "                             axis = 1)\n",
    "    \n",
    "    ## In case the token belongs to the END_TOKEN we return it as complete joke\n",
    "    if token_to_append in Tokenizer.encode(END_TOKEN):\n",
    "      return Tokenizer.decode(list(tf.squeeze(current_joke).numpy()))\n",
    "  \n",
    "  ## If we did not get end token it means no joke is formed and we try again\n",
    "  return complete_joke(initial_string, joke_length)"
   ]
  },
  {
   "cell_type": "code",
   "execution_count": 0,
   "metadata": {
    "colab": {
     "base_uri": "https://localhost:8080/",
     "height": 34
    },
    "colab_type": "code",
    "id": "YTdnCEZAUhZD",
    "outputId": "bd0bad15-a6bd-4d75-c84f-1fc7887fae67"
   },
   "outputs": [
    {
     "data": {
      "text/plain": [
       "\"<|start|> Jokes are just jokes. If i ever had a son i'd call him 'Joke' <\""
      ]
     },
     "execution_count": 178,
     "metadata": {
      "tags": []
     },
     "output_type": "execute_result"
    }
   ],
   "source": [
    "complete_joke(\"Jokes are\")"
   ]
  },
  {
   "cell_type": "code",
   "execution_count": 0,
   "metadata": {
    "colab": {
     "base_uri": "https://localhost:8080/",
     "height": 34
    },
    "colab_type": "code",
    "id": "nu0W9E4vSx1D",
    "outputId": "262b1f6b-67f1-4a74-fb25-8cb2a0c0cacd"
   },
   "outputs": [
    {
     "data": {
      "text/plain": [
       "'<|start|> I am trained enough to recognize a fake name on a Facebook profile. <'"
      ]
     },
     "execution_count": 173,
     "metadata": {
      "tags": []
     },
     "output_type": "execute_result"
    }
   ],
   "source": [
    "complete_joke(\"I am trained enough\")"
   ]
  },
  {
   "cell_type": "code",
   "execution_count": 0,
   "metadata": {
    "colab": {
     "base_uri": "https://localhost:8080/",
     "height": 34
    },
    "colab_type": "code",
    "id": "Y9HE08nE8BM9",
    "outputId": "514b7b9f-a2d8-45a3-9f22-f08dff9da107"
   },
   "outputs": [
    {
     "data": {
      "text/plain": [
       "'<|start|> I can do this all day long. \"I can do this all day long.\" -People with no idea what the word \"all\" means <'"
      ]
     },
     "execution_count": 137,
     "metadata": {
      "tags": []
     },
     "output_type": "execute_result"
    }
   ],
   "source": [
    "complete_joke(\"I can do this all day\")"
   ]
  },
  {
   "cell_type": "code",
   "execution_count": 0,
   "metadata": {
    "colab": {
     "base_uri": "https://localhost:8080/",
     "height": 34
    },
    "colab_type": "code",
    "id": "BKLzVnBp8JyZ",
    "outputId": "03cf9241-a821-4536-d3c5-22edbe55b09f"
   },
   "outputs": [
    {
     "data": {
      "text/plain": [
       "\"<|start|> Hope is a good thing.. until you don't have any <\""
      ]
     },
     "execution_count": 182,
     "metadata": {
      "tags": []
     },
     "output_type": "execute_result"
    }
   ],
   "source": [
    "complete_joke(\"Hope is a good thing\")"
   ]
  },
  {
   "cell_type": "code",
   "execution_count": 0,
   "metadata": {
    "colab": {
     "base_uri": "https://localhost:8080/",
     "height": 34
    },
    "colab_type": "code",
    "id": "kzjvvf0Q-uI3",
    "outputId": "030408b9-8d49-4880-dc96-c883c2e59bdb"
   },
   "outputs": [
    {
     "data": {
      "text/plain": [
       "\"<|start|> Where is a good place for a kid's birthday party? In a coffin. <\""
      ]
     },
     "execution_count": 36,
     "metadata": {
      "tags": []
     },
     "output_type": "execute_result"
    }
   ],
   "source": [
    "complete_joke(\"Where is \")"
   ]
  },
  {
   "cell_type": "code",
   "execution_count": 0,
   "metadata": {
    "colab": {
     "base_uri": "https://localhost:8080/",
     "height": 34
    },
    "colab_type": "code",
    "id": "cmNJgUW5-z0F",
    "outputId": "b172b142-2a28-447d-ce8d-989059321c72"
   },
   "outputs": [
    {
     "data": {
      "text/plain": [
       "\"<|start|> Why do girls always get lost in the woods? Because they're not smart enough to walk alone. <\""
      ]
     },
     "execution_count": 38,
     "metadata": {
      "tags": []
     },
     "output_type": "execute_result"
    }
   ],
   "source": [
    "complete_joke(\"Why do\")"
   ]
  },
  {
   "cell_type": "code",
   "execution_count": 0,
   "metadata": {
    "colab": {
     "base_uri": "https://localhost:8080/",
     "height": 34
    },
    "colab_type": "code",
    "id": "_rMELKCc-7w5",
    "outputId": "31ba34f4-1774-4dc8-af69-1b35856ae1ba"
   },
   "outputs": [
    {
     "data": {
      "text/plain": [
       "\"<|start|> Don't lie to your spouse, your boss, your neighbor, or anyone else about how many people you've slept with. <\""
      ]
     },
     "execution_count": 45,
     "metadata": {
      "tags": []
     },
     "output_type": "execute_result"
    }
   ],
   "source": [
    "complete_joke(\"Don't lie \")"
   ]
  },
  {
   "cell_type": "code",
   "execution_count": 0,
   "metadata": {
    "colab": {},
    "colab_type": "code",
    "id": "3qwBU2J1MCQh"
   },
   "outputs": [],
   "source": []
  }
 ],
 "metadata": {
  "accelerator": "GPU",
  "colab": {
   "collapsed_sections": [],
   "name": "Joke Generation.ipynb",
   "provenance": []
  },
  "kernelspec": {
   "display_name": "Python 3",
   "language": "python",
   "name": "python3"
  },
  "language_info": {
   "codemirror_mode": {
    "name": "ipython",
    "version": 3
   },
   "file_extension": ".py",
   "mimetype": "text/x-python",
   "name": "python",
   "nbconvert_exporter": "python",
   "pygments_lexer": "ipython3",
   "version": "3.6.7"
  },
  "widgets": {
   "application/vnd.jupyter.widget-state+json": {
    "0e543b812ff9407a97cd42f579fcfa4e": {
     "model_module": "@jupyter-widgets/controls",
     "model_name": "HBoxModel",
     "state": {
      "_dom_classes": [],
      "_model_module": "@jupyter-widgets/controls",
      "_model_module_version": "1.5.0",
      "_model_name": "HBoxModel",
      "_view_count": null,
      "_view_module": "@jupyter-widgets/controls",
      "_view_module_version": "1.5.0",
      "_view_name": "HBoxView",
      "box_style": "",
      "children": [
       "IPY_MODEL_47d130dfbcbf4c59901f871cc9c2c20a",
       "IPY_MODEL_4b1981dba58a4237bb9a18a18333754c"
      ],
      "layout": "IPY_MODEL_3e43951ac54b4ba0a996822b8228cce6"
     }
    },
    "0f71498eddae419c95c1bd473b9780ee": {
     "model_module": "@jupyter-widgets/controls",
     "model_name": "HBoxModel",
     "state": {
      "_dom_classes": [],
      "_model_module": "@jupyter-widgets/controls",
      "_model_module_version": "1.5.0",
      "_model_name": "HBoxModel",
      "_view_count": null,
      "_view_module": "@jupyter-widgets/controls",
      "_view_module_version": "1.5.0",
      "_view_name": "HBoxView",
      "box_style": "",
      "children": [
       "IPY_MODEL_f04cd57931e34101bed0ad5d50fbb38b",
       "IPY_MODEL_240f0a7b23c94902b8cc066eb00e0ee0"
      ],
      "layout": "IPY_MODEL_173dd0e4ed1443cea7e2362b06f07509"
     }
    },
    "0fe9a4c85f0949acb092cd00c7db21f3": {
     "model_module": "@jupyter-widgets/controls",
     "model_name": "HBoxModel",
     "state": {
      "_dom_classes": [],
      "_model_module": "@jupyter-widgets/controls",
      "_model_module_version": "1.5.0",
      "_model_name": "HBoxModel",
      "_view_count": null,
      "_view_module": "@jupyter-widgets/controls",
      "_view_module_version": "1.5.0",
      "_view_name": "HBoxView",
      "box_style": "",
      "children": [
       "IPY_MODEL_71bf0e4f6a2d4d02b084e9ce7397997b",
       "IPY_MODEL_8eaaaa11804a440c869c8f8e1e3e3558"
      ],
      "layout": "IPY_MODEL_ac1e515383d349a2be8afa9f3a40b078"
     }
    },
    "173dd0e4ed1443cea7e2362b06f07509": {
     "model_module": "@jupyter-widgets/base",
     "model_name": "LayoutModel",
     "state": {
      "_model_module": "@jupyter-widgets/base",
      "_model_module_version": "1.2.0",
      "_model_name": "LayoutModel",
      "_view_count": null,
      "_view_module": "@jupyter-widgets/base",
      "_view_module_version": "1.2.0",
      "_view_name": "LayoutView",
      "align_content": null,
      "align_items": null,
      "align_self": null,
      "border": null,
      "bottom": null,
      "display": null,
      "flex": null,
      "flex_flow": null,
      "grid_area": null,
      "grid_auto_columns": null,
      "grid_auto_flow": null,
      "grid_auto_rows": null,
      "grid_column": null,
      "grid_gap": null,
      "grid_row": null,
      "grid_template_areas": null,
      "grid_template_columns": null,
      "grid_template_rows": null,
      "height": null,
      "justify_content": null,
      "justify_items": null,
      "left": null,
      "margin": null,
      "max_height": null,
      "max_width": null,
      "min_height": null,
      "min_width": null,
      "object_fit": null,
      "object_position": null,
      "order": null,
      "overflow": null,
      "overflow_x": null,
      "overflow_y": null,
      "padding": null,
      "right": null,
      "top": null,
      "visibility": null,
      "width": null
     }
    },
    "240f0a7b23c94902b8cc066eb00e0ee0": {
     "model_module": "@jupyter-widgets/controls",
     "model_name": "HTMLModel",
     "state": {
      "_dom_classes": [],
      "_model_module": "@jupyter-widgets/controls",
      "_model_module_version": "1.5.0",
      "_model_name": "HTMLModel",
      "_view_count": null,
      "_view_module": "@jupyter-widgets/controls",
      "_view_module_version": "1.5.0",
      "_view_name": "HTMLView",
      "description": "",
      "description_tooltip": null,
      "layout": "IPY_MODEL_3a1c23c72760471fb7dad913b5510e18",
      "placeholder": "​",
      "style": "IPY_MODEL_8a18cb2855964a23bb6aeab2bde97ced",
      "value": " 718/718 [00:30&lt;00:00, 23.2B/s]"
     }
    },
    "259edb7d4a4e4ef48835444789a83c64": {
     "model_module": "@jupyter-widgets/controls",
     "model_name": "ProgressStyleModel",
     "state": {
      "_model_module": "@jupyter-widgets/controls",
      "_model_module_version": "1.5.0",
      "_model_name": "ProgressStyleModel",
      "_view_count": null,
      "_view_module": "@jupyter-widgets/base",
      "_view_module_version": "1.2.0",
      "_view_name": "StyleView",
      "bar_color": null,
      "description_width": "initial"
     }
    },
    "3461d60ff893418bae490c94c8b099ba": {
     "model_module": "@jupyter-widgets/base",
     "model_name": "LayoutModel",
     "state": {
      "_model_module": "@jupyter-widgets/base",
      "_model_module_version": "1.2.0",
      "_model_name": "LayoutModel",
      "_view_count": null,
      "_view_module": "@jupyter-widgets/base",
      "_view_module_version": "1.2.0",
      "_view_name": "LayoutView",
      "align_content": null,
      "align_items": null,
      "align_self": null,
      "border": null,
      "bottom": null,
      "display": null,
      "flex": null,
      "flex_flow": null,
      "grid_area": null,
      "grid_auto_columns": null,
      "grid_auto_flow": null,
      "grid_auto_rows": null,
      "grid_column": null,
      "grid_gap": null,
      "grid_row": null,
      "grid_template_areas": null,
      "grid_template_columns": null,
      "grid_template_rows": null,
      "height": null,
      "justify_content": null,
      "justify_items": null,
      "left": null,
      "margin": null,
      "max_height": null,
      "max_width": null,
      "min_height": null,
      "min_width": null,
      "object_fit": null,
      "object_position": null,
      "order": null,
      "overflow": null,
      "overflow_x": null,
      "overflow_y": null,
      "padding": null,
      "right": null,
      "top": null,
      "visibility": null,
      "width": null
     }
    },
    "3a1c23c72760471fb7dad913b5510e18": {
     "model_module": "@jupyter-widgets/base",
     "model_name": "LayoutModel",
     "state": {
      "_model_module": "@jupyter-widgets/base",
      "_model_module_version": "1.2.0",
      "_model_name": "LayoutModel",
      "_view_count": null,
      "_view_module": "@jupyter-widgets/base",
      "_view_module_version": "1.2.0",
      "_view_name": "LayoutView",
      "align_content": null,
      "align_items": null,
      "align_self": null,
      "border": null,
      "bottom": null,
      "display": null,
      "flex": null,
      "flex_flow": null,
      "grid_area": null,
      "grid_auto_columns": null,
      "grid_auto_flow": null,
      "grid_auto_rows": null,
      "grid_column": null,
      "grid_gap": null,
      "grid_row": null,
      "grid_template_areas": null,
      "grid_template_columns": null,
      "grid_template_rows": null,
      "height": null,
      "justify_content": null,
      "justify_items": null,
      "left": null,
      "margin": null,
      "max_height": null,
      "max_width": null,
      "min_height": null,
      "min_width": null,
      "object_fit": null,
      "object_position": null,
      "order": null,
      "overflow": null,
      "overflow_x": null,
      "overflow_y": null,
      "padding": null,
      "right": null,
      "top": null,
      "visibility": null,
      "width": null
     }
    },
    "3e17d472f6f94284927b128f1341e7c9": {
     "model_module": "@jupyter-widgets/controls",
     "model_name": "ProgressStyleModel",
     "state": {
      "_model_module": "@jupyter-widgets/controls",
      "_model_module_version": "1.5.0",
      "_model_name": "ProgressStyleModel",
      "_view_count": null,
      "_view_module": "@jupyter-widgets/base",
      "_view_module_version": "1.2.0",
      "_view_name": "StyleView",
      "bar_color": null,
      "description_width": "initial"
     }
    },
    "3e43951ac54b4ba0a996822b8228cce6": {
     "model_module": "@jupyter-widgets/base",
     "model_name": "LayoutModel",
     "state": {
      "_model_module": "@jupyter-widgets/base",
      "_model_module_version": "1.2.0",
      "_model_name": "LayoutModel",
      "_view_count": null,
      "_view_module": "@jupyter-widgets/base",
      "_view_module_version": "1.2.0",
      "_view_name": "LayoutView",
      "align_content": null,
      "align_items": null,
      "align_self": null,
      "border": null,
      "bottom": null,
      "display": null,
      "flex": null,
      "flex_flow": null,
      "grid_area": null,
      "grid_auto_columns": null,
      "grid_auto_flow": null,
      "grid_auto_rows": null,
      "grid_column": null,
      "grid_gap": null,
      "grid_row": null,
      "grid_template_areas": null,
      "grid_template_columns": null,
      "grid_template_rows": null,
      "height": null,
      "justify_content": null,
      "justify_items": null,
      "left": null,
      "margin": null,
      "max_height": null,
      "max_width": null,
      "min_height": null,
      "min_width": null,
      "object_fit": null,
      "object_position": null,
      "order": null,
      "overflow": null,
      "overflow_x": null,
      "overflow_y": null,
      "padding": null,
      "right": null,
      "top": null,
      "visibility": null,
      "width": null
     }
    },
    "4158bc7af22147f0b005f9418963bf6e": {
     "model_module": "@jupyter-widgets/controls",
     "model_name": "ProgressStyleModel",
     "state": {
      "_model_module": "@jupyter-widgets/controls",
      "_model_module_version": "1.5.0",
      "_model_name": "ProgressStyleModel",
      "_view_count": null,
      "_view_module": "@jupyter-widgets/base",
      "_view_module_version": "1.2.0",
      "_view_name": "StyleView",
      "bar_color": null,
      "description_width": "initial"
     }
    },
    "47d130dfbcbf4c59901f871cc9c2c20a": {
     "model_module": "@jupyter-widgets/controls",
     "model_name": "FloatProgressModel",
     "state": {
      "_dom_classes": [],
      "_model_module": "@jupyter-widgets/controls",
      "_model_module_version": "1.5.0",
      "_model_name": "FloatProgressModel",
      "_view_count": null,
      "_view_module": "@jupyter-widgets/controls",
      "_view_module_version": "1.5.0",
      "_view_name": "ProgressView",
      "bar_style": "success",
      "description": "Downloading: 100%",
      "description_tooltip": null,
      "layout": "IPY_MODEL_78220b1a7c58464c80fab5ba2881324d",
      "max": 1042301,
      "min": 0,
      "orientation": "horizontal",
      "style": "IPY_MODEL_85a01e42e2b4409b875e7da04b603dea",
      "value": 1042301
     }
    },
    "4b1981dba58a4237bb9a18a18333754c": {
     "model_module": "@jupyter-widgets/controls",
     "model_name": "HTMLModel",
     "state": {
      "_dom_classes": [],
      "_model_module": "@jupyter-widgets/controls",
      "_model_module_version": "1.5.0",
      "_model_name": "HTMLModel",
      "_view_count": null,
      "_view_module": "@jupyter-widgets/controls",
      "_view_module_version": "1.5.0",
      "_view_name": "HTMLView",
      "description": "",
      "description_tooltip": null,
      "layout": "IPY_MODEL_adba12ca745844ba8a61f512ba733daf",
      "placeholder": "​",
      "style": "IPY_MODEL_a3853d605a61488c97b0efc8cb86d44e",
      "value": " 1.04M/1.04M [00:03&lt;00:00, 315kB/s]"
     }
    },
    "6f71e6ef11e64dedae5195a16239b4d7": {
     "model_module": "@jupyter-widgets/base",
     "model_name": "LayoutModel",
     "state": {
      "_model_module": "@jupyter-widgets/base",
      "_model_module_version": "1.2.0",
      "_model_name": "LayoutModel",
      "_view_count": null,
      "_view_module": "@jupyter-widgets/base",
      "_view_module_version": "1.2.0",
      "_view_name": "LayoutView",
      "align_content": null,
      "align_items": null,
      "align_self": null,
      "border": null,
      "bottom": null,
      "display": null,
      "flex": null,
      "flex_flow": null,
      "grid_area": null,
      "grid_auto_columns": null,
      "grid_auto_flow": null,
      "grid_auto_rows": null,
      "grid_column": null,
      "grid_gap": null,
      "grid_row": null,
      "grid_template_areas": null,
      "grid_template_columns": null,
      "grid_template_rows": null,
      "height": null,
      "justify_content": null,
      "justify_items": null,
      "left": null,
      "margin": null,
      "max_height": null,
      "max_width": null,
      "min_height": null,
      "min_width": null,
      "object_fit": null,
      "object_position": null,
      "order": null,
      "overflow": null,
      "overflow_x": null,
      "overflow_y": null,
      "padding": null,
      "right": null,
      "top": null,
      "visibility": null,
      "width": null
     }
    },
    "6ff7375dc1a24c7d9ac5af5b5a2563d2": {
     "model_module": "@jupyter-widgets/controls",
     "model_name": "HTMLModel",
     "state": {
      "_dom_classes": [],
      "_model_module": "@jupyter-widgets/controls",
      "_model_module_version": "1.5.0",
      "_model_name": "HTMLModel",
      "_view_count": null,
      "_view_module": "@jupyter-widgets/controls",
      "_view_module_version": "1.5.0",
      "_view_name": "HTMLView",
      "description": "",
      "description_tooltip": null,
      "layout": "IPY_MODEL_6f71e6ef11e64dedae5195a16239b4d7",
      "placeholder": "​",
      "style": "IPY_MODEL_8aec5c9a6cff4474b77386b575a318b1",
      "value": " 456k/456k [00:00&lt;00:00, 557kB/s]"
     }
    },
    "71bf0e4f6a2d4d02b084e9ce7397997b": {
     "model_module": "@jupyter-widgets/controls",
     "model_name": "FloatProgressModel",
     "state": {
      "_dom_classes": [],
      "_model_module": "@jupyter-widgets/controls",
      "_model_module_version": "1.5.0",
      "_model_name": "FloatProgressModel",
      "_view_count": null,
      "_view_module": "@jupyter-widgets/controls",
      "_view_module_version": "1.5.0",
      "_view_name": "ProgressView",
      "bar_style": "success",
      "description": "Downloading: 100%",
      "description_tooltip": null,
      "layout": "IPY_MODEL_3461d60ff893418bae490c94c8b099ba",
      "max": 1419628976,
      "min": 0,
      "orientation": "horizontal",
      "style": "IPY_MODEL_259edb7d4a4e4ef48835444789a83c64",
      "value": 1419628976
     }
    },
    "78220b1a7c58464c80fab5ba2881324d": {
     "model_module": "@jupyter-widgets/base",
     "model_name": "LayoutModel",
     "state": {
      "_model_module": "@jupyter-widgets/base",
      "_model_module_version": "1.2.0",
      "_model_name": "LayoutModel",
      "_view_count": null,
      "_view_module": "@jupyter-widgets/base",
      "_view_module_version": "1.2.0",
      "_view_name": "LayoutView",
      "align_content": null,
      "align_items": null,
      "align_self": null,
      "border": null,
      "bottom": null,
      "display": null,
      "flex": null,
      "flex_flow": null,
      "grid_area": null,
      "grid_auto_columns": null,
      "grid_auto_flow": null,
      "grid_auto_rows": null,
      "grid_column": null,
      "grid_gap": null,
      "grid_row": null,
      "grid_template_areas": null,
      "grid_template_columns": null,
      "grid_template_rows": null,
      "height": null,
      "justify_content": null,
      "justify_items": null,
      "left": null,
      "margin": null,
      "max_height": null,
      "max_width": null,
      "min_height": null,
      "min_width": null,
      "object_fit": null,
      "object_position": null,
      "order": null,
      "overflow": null,
      "overflow_x": null,
      "overflow_y": null,
      "padding": null,
      "right": null,
      "top": null,
      "visibility": null,
      "width": null
     }
    },
    "85a01e42e2b4409b875e7da04b603dea": {
     "model_module": "@jupyter-widgets/controls",
     "model_name": "ProgressStyleModel",
     "state": {
      "_model_module": "@jupyter-widgets/controls",
      "_model_module_version": "1.5.0",
      "_model_name": "ProgressStyleModel",
      "_view_count": null,
      "_view_module": "@jupyter-widgets/base",
      "_view_module_version": "1.2.0",
      "_view_name": "StyleView",
      "bar_color": null,
      "description_width": "initial"
     }
    },
    "88e6ff05f8f44bbdb2722d30ef6b4380": {
     "model_module": "@jupyter-widgets/controls",
     "model_name": "DescriptionStyleModel",
     "state": {
      "_model_module": "@jupyter-widgets/controls",
      "_model_module_version": "1.5.0",
      "_model_name": "DescriptionStyleModel",
      "_view_count": null,
      "_view_module": "@jupyter-widgets/base",
      "_view_module_version": "1.2.0",
      "_view_name": "StyleView",
      "description_width": ""
     }
    },
    "8a18cb2855964a23bb6aeab2bde97ced": {
     "model_module": "@jupyter-widgets/controls",
     "model_name": "DescriptionStyleModel",
     "state": {
      "_model_module": "@jupyter-widgets/controls",
      "_model_module_version": "1.5.0",
      "_model_name": "DescriptionStyleModel",
      "_view_count": null,
      "_view_module": "@jupyter-widgets/base",
      "_view_module_version": "1.2.0",
      "_view_name": "StyleView",
      "description_width": ""
     }
    },
    "8aec5c9a6cff4474b77386b575a318b1": {
     "model_module": "@jupyter-widgets/controls",
     "model_name": "DescriptionStyleModel",
     "state": {
      "_model_module": "@jupyter-widgets/controls",
      "_model_module_version": "1.5.0",
      "_model_name": "DescriptionStyleModel",
      "_view_count": null,
      "_view_module": "@jupyter-widgets/base",
      "_view_module_version": "1.2.0",
      "_view_name": "StyleView",
      "description_width": ""
     }
    },
    "8eaaaa11804a440c869c8f8e1e3e3558": {
     "model_module": "@jupyter-widgets/controls",
     "model_name": "HTMLModel",
     "state": {
      "_dom_classes": [],
      "_model_module": "@jupyter-widgets/controls",
      "_model_module_version": "1.5.0",
      "_model_name": "HTMLModel",
      "_view_count": null,
      "_view_module": "@jupyter-widgets/controls",
      "_view_module_version": "1.5.0",
      "_view_name": "HTMLView",
      "description": "",
      "description_tooltip": null,
      "layout": "IPY_MODEL_a2135dc45d514dc6ac9670f97ff64896",
      "placeholder": "​",
      "style": "IPY_MODEL_88e6ff05f8f44bbdb2722d30ef6b4380",
      "value": " 1.42G/1.42G [00:29&lt;00:00, 48.3MB/s]"
     }
    },
    "a2135dc45d514dc6ac9670f97ff64896": {
     "model_module": "@jupyter-widgets/base",
     "model_name": "LayoutModel",
     "state": {
      "_model_module": "@jupyter-widgets/base",
      "_model_module_version": "1.2.0",
      "_model_name": "LayoutModel",
      "_view_count": null,
      "_view_module": "@jupyter-widgets/base",
      "_view_module_version": "1.2.0",
      "_view_name": "LayoutView",
      "align_content": null,
      "align_items": null,
      "align_self": null,
      "border": null,
      "bottom": null,
      "display": null,
      "flex": null,
      "flex_flow": null,
      "grid_area": null,
      "grid_auto_columns": null,
      "grid_auto_flow": null,
      "grid_auto_rows": null,
      "grid_column": null,
      "grid_gap": null,
      "grid_row": null,
      "grid_template_areas": null,
      "grid_template_columns": null,
      "grid_template_rows": null,
      "height": null,
      "justify_content": null,
      "justify_items": null,
      "left": null,
      "margin": null,
      "max_height": null,
      "max_width": null,
      "min_height": null,
      "min_width": null,
      "object_fit": null,
      "object_position": null,
      "order": null,
      "overflow": null,
      "overflow_x": null,
      "overflow_y": null,
      "padding": null,
      "right": null,
      "top": null,
      "visibility": null,
      "width": null
     }
    },
    "a3853d605a61488c97b0efc8cb86d44e": {
     "model_module": "@jupyter-widgets/controls",
     "model_name": "DescriptionStyleModel",
     "state": {
      "_model_module": "@jupyter-widgets/controls",
      "_model_module_version": "1.5.0",
      "_model_name": "DescriptionStyleModel",
      "_view_count": null,
      "_view_module": "@jupyter-widgets/base",
      "_view_module_version": "1.2.0",
      "_view_name": "StyleView",
      "description_width": ""
     }
    },
    "a4815015ad1849a2a7f66ab783594206": {
     "model_module": "@jupyter-widgets/controls",
     "model_name": "FloatProgressModel",
     "state": {
      "_dom_classes": [],
      "_model_module": "@jupyter-widgets/controls",
      "_model_module_version": "1.5.0",
      "_model_name": "FloatProgressModel",
      "_view_count": null,
      "_view_module": "@jupyter-widgets/controls",
      "_view_module_version": "1.5.0",
      "_view_name": "ProgressView",
      "bar_style": "success",
      "description": "Downloading: 100%",
      "description_tooltip": null,
      "layout": "IPY_MODEL_b02023a55bfa40859602b752fd1326eb",
      "max": 456318,
      "min": 0,
      "orientation": "horizontal",
      "style": "IPY_MODEL_4158bc7af22147f0b005f9418963bf6e",
      "value": 456318
     }
    },
    "ac1e515383d349a2be8afa9f3a40b078": {
     "model_module": "@jupyter-widgets/base",
     "model_name": "LayoutModel",
     "state": {
      "_model_module": "@jupyter-widgets/base",
      "_model_module_version": "1.2.0",
      "_model_name": "LayoutModel",
      "_view_count": null,
      "_view_module": "@jupyter-widgets/base",
      "_view_module_version": "1.2.0",
      "_view_name": "LayoutView",
      "align_content": null,
      "align_items": null,
      "align_self": null,
      "border": null,
      "bottom": null,
      "display": null,
      "flex": null,
      "flex_flow": null,
      "grid_area": null,
      "grid_auto_columns": null,
      "grid_auto_flow": null,
      "grid_auto_rows": null,
      "grid_column": null,
      "grid_gap": null,
      "grid_row": null,
      "grid_template_areas": null,
      "grid_template_columns": null,
      "grid_template_rows": null,
      "height": null,
      "justify_content": null,
      "justify_items": null,
      "left": null,
      "margin": null,
      "max_height": null,
      "max_width": null,
      "min_height": null,
      "min_width": null,
      "object_fit": null,
      "object_position": null,
      "order": null,
      "overflow": null,
      "overflow_x": null,
      "overflow_y": null,
      "padding": null,
      "right": null,
      "top": null,
      "visibility": null,
      "width": null
     }
    },
    "adba12ca745844ba8a61f512ba733daf": {
     "model_module": "@jupyter-widgets/base",
     "model_name": "LayoutModel",
     "state": {
      "_model_module": "@jupyter-widgets/base",
      "_model_module_version": "1.2.0",
      "_model_name": "LayoutModel",
      "_view_count": null,
      "_view_module": "@jupyter-widgets/base",
      "_view_module_version": "1.2.0",
      "_view_name": "LayoutView",
      "align_content": null,
      "align_items": null,
      "align_self": null,
      "border": null,
      "bottom": null,
      "display": null,
      "flex": null,
      "flex_flow": null,
      "grid_area": null,
      "grid_auto_columns": null,
      "grid_auto_flow": null,
      "grid_auto_rows": null,
      "grid_column": null,
      "grid_gap": null,
      "grid_row": null,
      "grid_template_areas": null,
      "grid_template_columns": null,
      "grid_template_rows": null,
      "height": null,
      "justify_content": null,
      "justify_items": null,
      "left": null,
      "margin": null,
      "max_height": null,
      "max_width": null,
      "min_height": null,
      "min_width": null,
      "object_fit": null,
      "object_position": null,
      "order": null,
      "overflow": null,
      "overflow_x": null,
      "overflow_y": null,
      "padding": null,
      "right": null,
      "top": null,
      "visibility": null,
      "width": null
     }
    },
    "b02023a55bfa40859602b752fd1326eb": {
     "model_module": "@jupyter-widgets/base",
     "model_name": "LayoutModel",
     "state": {
      "_model_module": "@jupyter-widgets/base",
      "_model_module_version": "1.2.0",
      "_model_name": "LayoutModel",
      "_view_count": null,
      "_view_module": "@jupyter-widgets/base",
      "_view_module_version": "1.2.0",
      "_view_name": "LayoutView",
      "align_content": null,
      "align_items": null,
      "align_self": null,
      "border": null,
      "bottom": null,
      "display": null,
      "flex": null,
      "flex_flow": null,
      "grid_area": null,
      "grid_auto_columns": null,
      "grid_auto_flow": null,
      "grid_auto_rows": null,
      "grid_column": null,
      "grid_gap": null,
      "grid_row": null,
      "grid_template_areas": null,
      "grid_template_columns": null,
      "grid_template_rows": null,
      "height": null,
      "justify_content": null,
      "justify_items": null,
      "left": null,
      "margin": null,
      "max_height": null,
      "max_width": null,
      "min_height": null,
      "min_width": null,
      "object_fit": null,
      "object_position": null,
      "order": null,
      "overflow": null,
      "overflow_x": null,
      "overflow_y": null,
      "padding": null,
      "right": null,
      "top": null,
      "visibility": null,
      "width": null
     }
    },
    "b5e2a8226d2b45b6b860b51ea0aee443": {
     "model_module": "@jupyter-widgets/base",
     "model_name": "LayoutModel",
     "state": {
      "_model_module": "@jupyter-widgets/base",
      "_model_module_version": "1.2.0",
      "_model_name": "LayoutModel",
      "_view_count": null,
      "_view_module": "@jupyter-widgets/base",
      "_view_module_version": "1.2.0",
      "_view_name": "LayoutView",
      "align_content": null,
      "align_items": null,
      "align_self": null,
      "border": null,
      "bottom": null,
      "display": null,
      "flex": null,
      "flex_flow": null,
      "grid_area": null,
      "grid_auto_columns": null,
      "grid_auto_flow": null,
      "grid_auto_rows": null,
      "grid_column": null,
      "grid_gap": null,
      "grid_row": null,
      "grid_template_areas": null,
      "grid_template_columns": null,
      "grid_template_rows": null,
      "height": null,
      "justify_content": null,
      "justify_items": null,
      "left": null,
      "margin": null,
      "max_height": null,
      "max_width": null,
      "min_height": null,
      "min_width": null,
      "object_fit": null,
      "object_position": null,
      "order": null,
      "overflow": null,
      "overflow_x": null,
      "overflow_y": null,
      "padding": null,
      "right": null,
      "top": null,
      "visibility": null,
      "width": null
     }
    },
    "b943a1ca56fe455bad60dd7cf776d543": {
     "model_module": "@jupyter-widgets/controls",
     "model_name": "HBoxModel",
     "state": {
      "_dom_classes": [],
      "_model_module": "@jupyter-widgets/controls",
      "_model_module_version": "1.5.0",
      "_model_name": "HBoxModel",
      "_view_count": null,
      "_view_module": "@jupyter-widgets/controls",
      "_view_module_version": "1.5.0",
      "_view_name": "HBoxView",
      "box_style": "",
      "children": [
       "IPY_MODEL_a4815015ad1849a2a7f66ab783594206",
       "IPY_MODEL_6ff7375dc1a24c7d9ac5af5b5a2563d2"
      ],
      "layout": "IPY_MODEL_e77ccda03163479ab006416c6fa281a2"
     }
    },
    "e77ccda03163479ab006416c6fa281a2": {
     "model_module": "@jupyter-widgets/base",
     "model_name": "LayoutModel",
     "state": {
      "_model_module": "@jupyter-widgets/base",
      "_model_module_version": "1.2.0",
      "_model_name": "LayoutModel",
      "_view_count": null,
      "_view_module": "@jupyter-widgets/base",
      "_view_module_version": "1.2.0",
      "_view_name": "LayoutView",
      "align_content": null,
      "align_items": null,
      "align_self": null,
      "border": null,
      "bottom": null,
      "display": null,
      "flex": null,
      "flex_flow": null,
      "grid_area": null,
      "grid_auto_columns": null,
      "grid_auto_flow": null,
      "grid_auto_rows": null,
      "grid_column": null,
      "grid_gap": null,
      "grid_row": null,
      "grid_template_areas": null,
      "grid_template_columns": null,
      "grid_template_rows": null,
      "height": null,
      "justify_content": null,
      "justify_items": null,
      "left": null,
      "margin": null,
      "max_height": null,
      "max_width": null,
      "min_height": null,
      "min_width": null,
      "object_fit": null,
      "object_position": null,
      "order": null,
      "overflow": null,
      "overflow_x": null,
      "overflow_y": null,
      "padding": null,
      "right": null,
      "top": null,
      "visibility": null,
      "width": null
     }
    },
    "f04cd57931e34101bed0ad5d50fbb38b": {
     "model_module": "@jupyter-widgets/controls",
     "model_name": "FloatProgressModel",
     "state": {
      "_dom_classes": [],
      "_model_module": "@jupyter-widgets/controls",
      "_model_module_version": "1.5.0",
      "_model_name": "FloatProgressModel",
      "_view_count": null,
      "_view_module": "@jupyter-widgets/controls",
      "_view_module_version": "1.5.0",
      "_view_name": "ProgressView",
      "bar_style": "success",
      "description": "Downloading: 100%",
      "description_tooltip": null,
      "layout": "IPY_MODEL_b5e2a8226d2b45b6b860b51ea0aee443",
      "max": 718,
      "min": 0,
      "orientation": "horizontal",
      "style": "IPY_MODEL_3e17d472f6f94284927b128f1341e7c9",
      "value": 718
     }
    }
   }
  }
 },
 "nbformat": 4,
 "nbformat_minor": 1
}
